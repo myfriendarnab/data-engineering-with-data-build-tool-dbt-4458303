{
 "cells": [
  {
   "cell_type": "code",
   "execution_count": null,
   "metadata": {},
   "outputs": [],
   "source": [
    "import duckdb\n",
    "import pandas as pd"
   ]
  },
  {
   "cell_type": "code",
   "execution_count": null,
   "metadata": {},
   "outputs": [],
   "source": [
    "sql_query = '''\n",
    "show tables\n",
    "'''\n",
    "\n",
    "with duckdb.connect('data/nyc_parking_violations.db') as con:\n",
    "    display(con.sql(sql_query).df())"
   ]
  },
  {
   "cell_type": "markdown",
   "metadata": {},
   "source": [
    "Import csv data to duckdb"
   ]
  },
  {
   "cell_type": "code",
   "execution_count": null,
   "metadata": {},
   "outputs": [],
   "source": [
    "sql_query_import1='''\n",
    "CREATE OR REPLACE TABLE parking_violation_codes AS\n",
    "SELECT *\n",
    "FROM read_csv_auto('data/dof_parking_violation_codes.csv', normalize_names=True)\n",
    "'''\n",
    "\n",
    "sql_query_import2='''\n",
    "CREATE OR REPLACE TABLE parking_violations_2023 AS\n",
    "SELECT *\n",
    "FROM read_csv_auto('data/parking_violations_issued_fiscal_year_2023_sample.csv', normalize_names=True)\n",
    "'''\n",
    "\n",
    "with duckdb.connect('data/nyc_parking_violations.db') as con:\n",
    "  con.sql(sql_query_import1)\n",
    "  con.sql(sql_query_import2)"
   ]
  },
  {
   "cell_type": "markdown",
   "metadata": {},
   "source": [
    "show the data"
   ]
  },
  {
   "cell_type": "code",
   "execution_count": null,
   "metadata": {},
   "outputs": [],
   "source": [
    "sql_query1 = '''\n",
    "SELECT * FROM parking_violation_codes\n",
    "LIMIT 5\n",
    "'''\n",
    "\n",
    "sql_query2 = '''\n",
    "SELECT * FROM parking_violations_2023\n",
    "LIMIT 5\n",
    "'''\n",
    "\n",
    "with duckdb.connect('data/nyc_parking_violations.db') as con:\n",
    "  display(con.sql(sql_query1).df())\n",
    "  display(con.sql(sql_query2).df())"
   ]
  }
 ],
 "metadata": {
  "kernelspec": {
   "display_name": "Python 3",
   "language": "python",
   "name": "python3"
  },
  "language_info": {
   "codemirror_mode": {
    "name": "ipython",
    "version": 3
   },
   "file_extension": ".py",
   "mimetype": "text/x-python",
   "name": "python",
   "nbconvert_exporter": "python",
   "pygments_lexer": "ipython3",
   "version": "3.10.12"
  },
  "orig_nbformat": 4,
  "vscode": {
   "interpreter": {
    "hash": "31f2aee4e71d21fbe5cf8b01ff0e069b9275f58929596ceb00d14d90e3e16cd6"
   }
  }
 },
 "nbformat": 4,
 "nbformat_minor": 2
}
